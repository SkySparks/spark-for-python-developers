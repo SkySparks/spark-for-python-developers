{
 "cells": [
  {
   "cell_type": "code",
   "execution_count": 2,
   "metadata": {
    "collapsed": false
   },
   "outputs": [],
   "source": [
    "import time\n",
    "from kafka.common import LeaderNotAvailableError\n",
    "from kafka import KafkaClient\n",
    "from kafka.producer import SimpleProducer\n",
    "from datetime import datetime"
   ]
  },
  {
   "cell_type": "code",
   "execution_count": null,
   "metadata": {
    "collapsed": true
   },
   "outputs": [],
   "source": [
    "def print_response(response=None):\n",
    "    if response:\n",
    "        print(\"Error: {0}\".format(response[0].error))\n",
    "        print(\"Offset: {0}\".format(response[0].offset))\n",
    "    \n",
    "def main():\n",
    "    kafka = KafkaClient(\"localhost:9092\")\n",
    "    producer = SimpleProducer(kafka)\n",
    "    try:\n",
    "        time.sleep(5)\n",
    "        topic = 'test'\n",
    "        for i in range(5):\n",
    "            time.sleep(1)\n",
    "            msg = \"This is a message from kafka producer\" + str(datetime.now().time()) + \"--\" + str(datetime.now().strftime(\"%A, %d %B %I:%M%p\"))\n",
    "            print_response(producer.send_messages(topic, msg))\n",
    "    except LeaderNotAvailableError:\n",
    "        time.sleep(1)\n",
    "        print_response(producer.send_messages(topic, msg))\n",
    "    \n",
    "    kafka.close()\n",
    "\n",
    "if __name__ == \"__main__\":\n",
    "    main()"
   ]
  }
 ],
 "metadata": {
  "kernelspec": {
   "display_name": "Python [Root]",
   "language": "python",
   "name": "Python [Root]"
  },
  "language_info": {
   "codemirror_mode": {
    "name": "ipython",
    "version": 2
   },
   "file_extension": ".py",
   "mimetype": "text/x-python",
   "name": "python",
   "nbconvert_exporter": "python",
   "pygments_lexer": "ipython2",
   "version": "2.7.12"
  }
 },
 "nbformat": 4,
 "nbformat_minor": 0
}
