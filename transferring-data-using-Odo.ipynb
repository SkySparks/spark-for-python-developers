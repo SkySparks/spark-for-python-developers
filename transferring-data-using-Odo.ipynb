{
 "cells": [
  {
   "cell_type": "code",
   "execution_count": 1,
   "metadata": {
    "collapsed": false
   },
   "outputs": [
    {
     "name": "stderr",
     "output_type": "stream",
     "text": [
      "/home/carl/anaconda2/lib/python2.7/site-packages/flask/exthook.py:71: ExtDeprecationWarning: Importing flask.ext.cors is deprecated, use flask_cors instead.\n",
      "  .format(x=modname), ExtDeprecationWarning\n"
     ]
    }
   ],
   "source": [
    "from odo import odo\n",
    "from blaze import Data, by, join, merge\n",
    "import numpy as np\n",
    "import pandas as pd"
   ]
  },
  {
   "cell_type": "code",
   "execution_count": 60,
   "metadata": {
    "collapsed": false
   },
   "outputs": [],
   "source": [
    "csvFpath = '/home/carl/spark/examples/carl_Spark/data'\n",
    "csvFname = 'twtr15053001-from-dataframe'\n",
    "csvSuffix = 'json'\n",
    "\n",
    "filepath = csvFpath\n",
    "filename= csvFname\n",
    "filesuffix = csvSuffix\n",
    "\n",
    "twts_odo_df = Data('{0}/{1}.{2}'.format(filepath, filename, filesuffix))"
   ]
  },
  {
   "cell_type": "code",
   "execution_count": 61,
   "metadata": {
    "collapsed": false
   },
   "outputs": [
    {
     "data": {
      "text/html": [
       "2"
      ],
      "text/plain": [
       "2"
      ]
     },
     "execution_count": 61,
     "metadata": {},
     "output_type": "execute_result"
    }
   ],
   "source": [
    "twts_odo_df.count()"
   ]
  },
  {
   "cell_type": "code",
   "execution_count": 62,
   "metadata": {
    "collapsed": false
   },
   "outputs": [
    {
     "data": {
      "text/html": [
       "<table border=\"1\" class=\"dataframe\">\n",
       "  <thead>\n",
       "    <tr style=\"text-align: right;\">\n",
       "      <th></th>\n",
       "      <th>id</th>\n",
       "      <th>tweet_text</th>\n",
       "      <th>url</th>\n",
       "      <th>user_id</th>\n",
       "      <th>user_name</th>\n",
       "    </tr>\n",
       "  </thead>\n",
       "  <tbody>\n",
       "    <tr>\n",
       "      <th>0</th>\n",
       "      <td>774933593206427649</td>\n",
       "      <td>RT @TheTruth24US: Clinton remarks on \"half\" of...</td>\n",
       "      <td>http://goo.gl/4MoqDR</td>\n",
       "      <td>2690281202</td>\n",
       "      <td>Info 24 US</td>\n",
       "    </tr>\n",
       "    <tr>\n",
       "      <th>1</th>\n",
       "      <td>774933591830790145</td>\n",
       "      <td>Clinton remarks on \"half\" of Trump backers spa...</td>\n",
       "      <td>http://goo.gl/4MoqDR</td>\n",
       "      <td>2941365709</td>\n",
       "      <td>The Truth 24 US</td>\n",
       "    </tr>\n",
       "  </tbody>\n",
       "</table>"
      ],
      "text/plain": [
       "                   id                                         tweet_text  \\\n",
       "0  774933593206427649  RT @TheTruth24US: Clinton remarks on \"half\" of...   \n",
       "1  774933591830790145  Clinton remarks on \"half\" of Trump backers spa...   \n",
       "\n",
       "                    url     user_id        user_name  \n",
       "0  http://goo.gl/4MoqDR  2690281202       Info 24 US  \n",
       "1  http://goo.gl/4MoqDR  2941365709  The Truth 24 US  "
      ]
     },
     "execution_count": 62,
     "metadata": {},
     "output_type": "execute_result"
    }
   ],
   "source": [
    "twts_odo_df.head()"
   ]
  },
  {
   "cell_type": "code",
   "execution_count": 63,
   "metadata": {
    "collapsed": false
   },
   "outputs": [],
   "source": [
    "jsonFpath = '/home/carl/spark/examples/carl_Spark/data'\n",
    "jsonFname = 'twtr15053001-from-dataframe'\n",
    "jsonSuffix = 'json'\n",
    "\n",
    "csvFpath = '/home/carl/spark/examples/carl_Spark/data'\n",
    "csvFname = 'twtr15053001'\n",
    "csvSuffix = 'csv'\n",
    "\n",
    "from odo import odo\n"
   ]
  },
  {
   "cell_type": "code",
   "execution_count": 64,
   "metadata": {
    "collapsed": false
   },
   "outputs": [
    {
     "data": {
      "text/plain": [
       "<odo.backends.json.JSONLines at 0x7f9738a96610>"
      ]
     },
     "execution_count": 64,
     "metadata": {},
     "output_type": "execute_result"
    }
   ],
   "source": [
    "odo(twts_odo_df, '{0}/{1}.{2}'.format(jsonFpath, jsonFname, jsonSuffix))"
   ]
  },
  {
   "cell_type": "code",
   "execution_count": 65,
   "metadata": {
    "collapsed": false
   },
   "outputs": [
    {
     "data": {
      "text/plain": [
       "<odo.backends.csv.CSV at 0x7f9738a96ed0>"
      ]
     },
     "execution_count": 65,
     "metadata": {},
     "output_type": "execute_result"
    }
   ],
   "source": [
    "from IPython.core.debugger import Tracer\n",
    "\n",
    "csvFname = 'twtr15053001-from-json'\n",
    "jsonFile = '{0}/{1}.{2}'.format(jsonFpath, jsonFname, jsonSuffix)\n",
    "csvFile = '{0}/{1}.{2}'.format(csvFpath, csvFname, csvSuffix)\n",
    "# Tracer()()\n",
    "\n",
    "odo(jsonFile, csvFile)"
   ]
  },
  {
   "cell_type": "code",
   "execution_count": null,
   "metadata": {
    "collapsed": true
   },
   "outputs": [],
   "source": []
  }
 ],
 "metadata": {
  "kernelspec": {
   "display_name": "Python [Root]",
   "language": "python",
   "name": "Python [Root]"
  },
  "language_info": {
   "codemirror_mode": {
    "name": "ipython",
    "version": 2
   },
   "file_extension": ".py",
   "mimetype": "text/x-python",
   "name": "python",
   "nbconvert_exporter": "python",
   "pygments_lexer": "ipython2",
   "version": "2.7.12"
  }
 },
 "nbformat": 4,
 "nbformat_minor": 0
}
