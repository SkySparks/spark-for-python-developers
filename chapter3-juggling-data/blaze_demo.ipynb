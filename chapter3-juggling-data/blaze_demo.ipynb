{
 "cells": [
  {
   "cell_type": "code",
   "execution_count": 3,
   "metadata": {
    "collapsed": false
   },
   "outputs": [],
   "source": [
    "import numpy as np\n",
    "import pandas as pd\n",
    "from blaze import Data, by, join, merge\n",
    "from odo import odo "
   ]
  },
  {
   "cell_type": "code",
   "execution_count": 4,
   "metadata": {
    "collapsed": false
   },
   "outputs": [],
   "source": [
    "from IO_csv import IO_csv\n",
    "csvFpath = '/home/carl/spark/examples/carl_Spark/data'\n",
    "csvFname = 'twtr15053001' # twtr15053001.csv\n",
    "c = IO_csv(csvFpath, csvFname)"
   ]
  },
  {
   "cell_type": "code",
   "execution_count": 5,
   "metadata": {
    "collapsed": false
   },
   "outputs": [],
   "source": [
    "fields01 = ['id', 'created_at', 'user_id', 'user_name', 'tweet_text', 'url']\n",
    "data = c.load('Tweet01', fields01)\n",
    "twts_pd_df = pd.DataFrame(data, columns=fields01)"
   ]
  },
  {
   "cell_type": "code",
   "execution_count": 6,
   "metadata": {
    "collapsed": false
   },
   "outputs": [
    {
     "data": {
      "text/html": [
       "<div>\n",
       "<table border=\"1\" class=\"dataframe\">\n",
       "  <thead>\n",
       "    <tr style=\"text-align: right;\">\n",
       "      <th></th>\n",
       "      <th>id</th>\n",
       "      <th>created_at</th>\n",
       "      <th>user_id</th>\n",
       "      <th>user_name</th>\n",
       "      <th>tweet_text</th>\n",
       "      <th>url</th>\n",
       "    </tr>\n",
       "  </thead>\n",
       "  <tbody>\n",
       "    <tr>\n",
       "      <th>0</th>\n",
       "      <td>id</td>\n",
       "      <td>created_at</td>\n",
       "      <td>user_id</td>\n",
       "      <td>user_name</td>\n",
       "      <td>tweet_text</td>\n",
       "      <td>url</td>\n",
       "    </tr>\n",
       "    <tr>\n",
       "      <th>1</th>\n",
       "      <td>774933593206427649</td>\n",
       "      <td>Sun Sep 11 11:32:20 +0000 2016</td>\n",
       "      <td>2690281202</td>\n",
       "      <td>Info 24 US</td>\n",
       "      <td>RT @TheTruth24US: Clinton remarks on \"half\" of...</td>\n",
       "      <td>http://goo.gl/4MoqDR</td>\n",
       "    </tr>\n",
       "    <tr>\n",
       "      <th>2</th>\n",
       "      <td>774933591830790145</td>\n",
       "      <td>Sun Sep 11 11:32:20 +0000 2016</td>\n",
       "      <td>2941365709</td>\n",
       "      <td>The Truth 24 US</td>\n",
       "      <td>Clinton remarks on \"half\" of Trump backers spa...</td>\n",
       "      <td>http://goo.gl/4MoqDR</td>\n",
       "    </tr>\n",
       "  </tbody>\n",
       "</table>\n",
       "</div>"
      ],
      "text/plain": [
       "                   id                      created_at     user_id  \\\n",
       "0                  id                      created_at     user_id   \n",
       "1  774933593206427649  Sun Sep 11 11:32:20 +0000 2016  2690281202   \n",
       "2  774933591830790145  Sun Sep 11 11:32:20 +0000 2016  2941365709   \n",
       "\n",
       "         user_name                                         tweet_text  \\\n",
       "0        user_name                                         tweet_text   \n",
       "1       Info 24 US  RT @TheTruth24US: Clinton remarks on \"half\" of...   \n",
       "2  The Truth 24 US  Clinton remarks on \"half\" of Trump backers spa...   \n",
       "\n",
       "                    url  \n",
       "0                   url  \n",
       "1  http://goo.gl/4MoqDR  \n",
       "2  http://goo.gl/4MoqDR  "
      ]
     },
     "execution_count": 6,
     "metadata": {},
     "output_type": "execute_result"
    }
   ],
   "source": [
    "twts_pd_df.head()"
   ]
  },
  {
   "cell_type": "code",
   "execution_count": 7,
   "metadata": {
    "collapsed": false
   },
   "outputs": [
    {
     "data": {
      "text/html": [
       "<div>\n",
       "<table border=\"1\" class=\"dataframe\">\n",
       "  <thead>\n",
       "    <tr style=\"text-align: right;\">\n",
       "      <th></th>\n",
       "      <th>id</th>\n",
       "      <th>created_at</th>\n",
       "      <th>user_id</th>\n",
       "      <th>user_name</th>\n",
       "      <th>tweet_text</th>\n",
       "      <th>url</th>\n",
       "    </tr>\n",
       "  </thead>\n",
       "  <tbody>\n",
       "    <tr>\n",
       "      <th>count</th>\n",
       "      <td>3</td>\n",
       "      <td>3</td>\n",
       "      <td>3</td>\n",
       "      <td>3</td>\n",
       "      <td>3</td>\n",
       "      <td>3</td>\n",
       "    </tr>\n",
       "    <tr>\n",
       "      <th>unique</th>\n",
       "      <td>3</td>\n",
       "      <td>2</td>\n",
       "      <td>3</td>\n",
       "      <td>3</td>\n",
       "      <td>3</td>\n",
       "      <td>2</td>\n",
       "    </tr>\n",
       "    <tr>\n",
       "      <th>top</th>\n",
       "      <td>774933591830790145</td>\n",
       "      <td>Sun Sep 11 11:32:20 +0000 2016</td>\n",
       "      <td>2690281202</td>\n",
       "      <td>The Truth 24 US</td>\n",
       "      <td>RT @TheTruth24US: Clinton remarks on \"half\" of...</td>\n",
       "      <td>http://goo.gl/4MoqDR</td>\n",
       "    </tr>\n",
       "    <tr>\n",
       "      <th>freq</th>\n",
       "      <td>1</td>\n",
       "      <td>2</td>\n",
       "      <td>1</td>\n",
       "      <td>1</td>\n",
       "      <td>1</td>\n",
       "      <td>2</td>\n",
       "    </tr>\n",
       "  </tbody>\n",
       "</table>\n",
       "</div>"
      ],
      "text/plain": [
       "                        id                      created_at     user_id  \\\n",
       "count                    3                               3           3   \n",
       "unique                   3                               2           3   \n",
       "top     774933591830790145  Sun Sep 11 11:32:20 +0000 2016  2690281202   \n",
       "freq                     1                               2           1   \n",
       "\n",
       "              user_name                                         tweet_text  \\\n",
       "count                 3                                                  3   \n",
       "unique                3                                                  3   \n",
       "top     The Truth 24 US  RT @TheTruth24US: Clinton remarks on \"half\" of...   \n",
       "freq                  1                                                  1   \n",
       "\n",
       "                         url  \n",
       "count                      3  \n",
       "unique                     2  \n",
       "top     http://goo.gl/4MoqDR  \n",
       "freq                       2  "
      ]
     },
     "execution_count": 7,
     "metadata": {},
     "output_type": "execute_result"
    }
   ],
   "source": [
    "twts_pd_df.describe()"
   ]
  },
  {
   "cell_type": "code",
   "execution_count": 9,
   "metadata": {
    "collapsed": false
   },
   "outputs": [
    {
     "data": {
      "text/plain": [
       "dshape(\"\"\"{\n",
       "  id: ?string,\n",
       "  created_at: ?string,\n",
       "  user_id: ?string,\n",
       "  user_name: ?string,\n",
       "  tweet_text: ?string,\n",
       "  url: ?string\n",
       "  }\"\"\")"
      ]
     },
     "execution_count": 9,
     "metadata": {},
     "output_type": "execute_result"
    }
   ],
   "source": [
    "twts_bz_df = Data(twts_pd_df)\n",
    "twts_bz_df.schema"
   ]
  },
  {
   "cell_type": "code",
   "execution_count": 10,
   "metadata": {
    "collapsed": false
   },
   "outputs": [
    {
     "data": {
      "text/plain": [
       "dshape(\"\"\"3 * {\n",
       "  id: ?string,\n",
       "  created_at: ?string,\n",
       "  user_id: ?string,\n",
       "  user_name: ?string,\n",
       "  tweet_text: ?string,\n",
       "  url: ?string\n",
       "  }\"\"\")"
      ]
     },
     "execution_count": 10,
     "metadata": {},
     "output_type": "execute_result"
    }
   ],
   "source": [
    "twts_bz_df.dshape"
   ]
  },
  {
   "cell_type": "code",
   "execution_count": 11,
   "metadata": {
    "collapsed": false
   },
   "outputs": [
    {
     "data": {
      "text/html": [
       "<div>\n",
       "<table border=\"1\" class=\"dataframe\">\n",
       "  <thead>\n",
       "    <tr style=\"text-align: right;\">\n",
       "      <th></th>\n",
       "      <th>id</th>\n",
       "      <th>created_at</th>\n",
       "      <th>user_id</th>\n",
       "      <th>user_name</th>\n",
       "      <th>tweet_text</th>\n",
       "      <th>url</th>\n",
       "    </tr>\n",
       "  </thead>\n",
       "  <tbody>\n",
       "    <tr>\n",
       "      <th>0</th>\n",
       "      <td>id</td>\n",
       "      <td>created_at</td>\n",
       "      <td>user_id</td>\n",
       "      <td>user_name</td>\n",
       "      <td>tweet_text</td>\n",
       "      <td>url</td>\n",
       "    </tr>\n",
       "    <tr>\n",
       "      <th>1</th>\n",
       "      <td>774933593206427649</td>\n",
       "      <td>Sun Sep 11 11:32:20 +0000 2016</td>\n",
       "      <td>2690281202</td>\n",
       "      <td>Info 24 US</td>\n",
       "      <td>RT @TheTruth24US: Clinton remarks on \"half\" of...</td>\n",
       "      <td>http://goo.gl/4MoqDR</td>\n",
       "    </tr>\n",
       "    <tr>\n",
       "      <th>2</th>\n",
       "      <td>774933591830790145</td>\n",
       "      <td>Sun Sep 11 11:32:20 +0000 2016</td>\n",
       "      <td>2941365709</td>\n",
       "      <td>The Truth 24 US</td>\n",
       "      <td>Clinton remarks on \"half\" of Trump backers spa...</td>\n",
       "      <td>http://goo.gl/4MoqDR</td>\n",
       "    </tr>\n",
       "  </tbody>\n",
       "</table>\n",
       "</div>"
      ],
      "text/plain": [
       "                   id                      created_at     user_id  \\\n",
       "0                  id                      created_at     user_id   \n",
       "1  774933593206427649  Sun Sep 11 11:32:20 +0000 2016  2690281202   \n",
       "2  774933591830790145  Sun Sep 11 11:32:20 +0000 2016  2941365709   \n",
       "\n",
       "         user_name                                         tweet_text  \\\n",
       "0        user_name                                         tweet_text   \n",
       "1       Info 24 US  RT @TheTruth24US: Clinton remarks on \"half\" of...   \n",
       "2  The Truth 24 US  Clinton remarks on \"half\" of Trump backers spa...   \n",
       "\n",
       "                    url  \n",
       "0                   url  \n",
       "1  http://goo.gl/4MoqDR  \n",
       "2  http://goo.gl/4MoqDR  "
      ]
     },
     "execution_count": 11,
     "metadata": {},
     "output_type": "execute_result"
    }
   ],
   "source": [
    "twts_bz_df.data"
   ]
  },
  {
   "cell_type": "code",
   "execution_count": 12,
   "metadata": {
    "collapsed": false
   },
   "outputs": [
    {
     "data": {
      "text/html": [
       "<table border=\"1\" class=\"dataframe\">\n",
       "  <thead>\n",
       "    <tr style=\"text-align: right;\">\n",
       "      <th></th>\n",
       "      <th>tweet_text</th>\n",
       "    </tr>\n",
       "  </thead>\n",
       "  <tbody>\n",
       "    <tr>\n",
       "      <th>0</th>\n",
       "      <td>tweet_text</td>\n",
       "    </tr>\n",
       "    <tr>\n",
       "      <th>1</th>\n",
       "      <td>RT @TheTruth24US: Clinton remarks on \"half\" of...</td>\n",
       "    </tr>\n",
       "    <tr>\n",
       "      <th>2</th>\n",
       "      <td>Clinton remarks on \"half\" of Trump backers spa...</td>\n",
       "    </tr>\n",
       "  </tbody>\n",
       "</table>"
      ],
      "text/plain": [
       "                                          tweet_text\n",
       "0                                         tweet_text\n",
       "1  RT @TheTruth24US: Clinton remarks on \"half\" of...\n",
       "2  Clinton remarks on \"half\" of Trump backers spa..."
      ]
     },
     "execution_count": 12,
     "metadata": {},
     "output_type": "execute_result"
    }
   ],
   "source": [
    "twts_bz_df.tweet_text.distinct()"
   ]
  },
  {
   "cell_type": "code",
   "execution_count": null,
   "metadata": {
    "collapsed": true
   },
   "outputs": [],
   "source": []
  }
 ],
 "metadata": {
  "kernelspec": {
   "display_name": "Python [Root]",
   "language": "python",
   "name": "Python [Root]"
  },
  "language_info": {
   "codemirror_mode": {
    "name": "ipython",
    "version": 2
   },
   "file_extension": ".py",
   "mimetype": "text/x-python",
   "name": "python",
   "nbconvert_exporter": "python",
   "pygments_lexer": "ipython2",
   "version": "2.7.12"
  }
 },
 "nbformat": 4,
 "nbformat_minor": 0
}
