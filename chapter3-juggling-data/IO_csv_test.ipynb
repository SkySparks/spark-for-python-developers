{
 "cells": [
  {
   "cell_type": "code",
   "execution_count": 1,
   "metadata": {
    "collapsed": true
   },
   "outputs": [],
   "source": [
    "from IO_csv import IO_csv\n",
    "\n",
    "csvFpath = '/home/carl/spark/examples/carl_Spark/data'\n",
    "csvFname = 'twtr15053001-test'\n",
    "c = IO_csv(csvFpath, csvFname)"
   ]
  },
  {
   "cell_type": "code",
   "execution_count": null,
   "metadata": {
    "collapsed": true
   },
   "outputs": [],
   "source": [
    "\n",
    "fields = ['id', 'created_at', 'user_id', 'user_name', 'tweet_text', 'url']\n",
    "tweet = [(774905854135066624, u'Sun Sep 11 09:42:07 +0000 2016', 723173156827996160, u'Angela Novaris', 'RT @jose_garde: #ApacheSpark Scale: A 60 TB+ production use case | Engineering Blog | Facebook Code - https://t.co/SSBS1Z2TNY #BigData #Ana\\xe2\\x80\\xa6', u'http://klou.tt/1fv4e1h7imka4')]\n",
    "\n",
    "c.save(tweet, 'Tweet01', fields)"
   ]
  },
  {
   "cell_type": "code",
   "execution_count": 3,
   "metadata": {
    "collapsed": false
   },
   "outputs": [],
   "source": [
    "fields = ['id', 'created_at', 'user_id', 'user_name', 'tweet_text', 'url']\n",
    "data = c.load('Tweet01', fields)"
   ]
  },
  {
   "cell_type": "code",
   "execution_count": 11,
   "metadata": {
    "collapsed": false
   },
   "outputs": [
    {
     "name": "stdout",
     "output_type": "stream",
     "text": [
      "<generator object load at 0x7f00ca58cfa0>\n"
     ]
    }
   ],
   "source": [
    "print(data)"
   ]
  },
  {
   "cell_type": "code",
   "execution_count": null,
   "metadata": {
    "collapsed": true
   },
   "outputs": [],
   "source": []
  }
 ],
 "metadata": {
  "kernelspec": {
   "display_name": "Python [Root]",
   "language": "python",
   "name": "Python [Root]"
  },
  "language_info": {
   "codemirror_mode": {
    "name": "ipython",
    "version": 2
   },
   "file_extension": ".py",
   "mimetype": "text/x-python",
   "name": "python",
   "nbconvert_exporter": "python",
   "pygments_lexer": "ipython2",
   "version": "2.7.12"
  }
 },
 "nbformat": 4,
 "nbformat_minor": 0
}
