{
 "cells": [
  {
   "cell_type": "code",
   "execution_count": 1,
   "metadata": {
    "collapsed": true
   },
   "outputs": [],
   "source": [
    "import re\n",
    "from operator import add"
   ]
  },
  {
   "cell_type": "code",
   "execution_count": 13,
   "metadata": {
    "collapsed": false
   },
   "outputs": [],
   "source": [
    "file_in = sc.textFile(\"/home/carl/spark/NOTICE\")"
   ]
  },
  {
   "cell_type": "code",
   "execution_count": 3,
   "metadata": {
    "collapsed": true
   },
   "outputs": [],
   "source": [
    "words = file_in.flatMap(lambda line: re.split(' ', line.lower().strip()))"
   ]
  },
  {
   "cell_type": "code",
   "execution_count": 4,
   "metadata": {
    "collapsed": true
   },
   "outputs": [],
   "source": [
    "words = words.filter(lambda w: len(w) > 3)"
   ]
  },
  {
   "cell_type": "code",
   "execution_count": 5,
   "metadata": {
    "collapsed": true
   },
   "outputs": [],
   "source": [
    "words = words.map(lambda w:(w,1))"
   ]
  },
  {
   "cell_type": "code",
   "execution_count": 6,
   "metadata": {
    "collapsed": true
   },
   "outputs": [],
   "source": [
    "words = words.reduceByKey(add)"
   ]
  },
  {
   "cell_type": "code",
   "execution_count": 7,
   "metadata": {
    "collapsed": false
   },
   "outputs": [],
   "source": [
    "words = words.map(lambda x: (x[1], x[0])).sortByKey(False)"
   ]
  },
  {
   "cell_type": "code",
   "execution_count": 8,
   "metadata": {
    "collapsed": false
   },
   "outputs": [
    {
     "data": {
      "text/plain": [
       "[(79, u'apache'),\n",
       " (66, u'copyright'),\n",
       " (60, u'software'),\n",
       " (54, u'this'),\n",
       " (44, u'license'),\n",
       " (38, u'product'),\n",
       " (35, u'foundation'),\n",
       " (28, u'under'),\n",
       " (19, u'developed'),\n",
       " (18, u'includes'),\n",
       " (17, u'from'),\n",
       " (16, u'version'),\n",
       " (15, u'commons'),\n",
       " (15, u'distributed'),\n",
       " (14, u'project')]"
      ]
     },
     "execution_count": 8,
     "metadata": {},
     "output_type": "execute_result"
    }
   ],
   "source": [
    "words.take(15)"
   ]
  },
  {
   "cell_type": "code",
   "execution_count": 9,
   "metadata": {
    "collapsed": false
   },
   "outputs": [],
   "source": [
    "% matplotlib inline\n",
    "import matplotlib.pyplot as plt\n",
    "\n",
    "def histogram(words):\n",
    "    count = map(lambda x: x[1], words)\n",
    "    word = map(lambda x:x[0], words)\n",
    "    plt.barh(range(len(count)), count, color=\"green\")\n",
    "    plt.yticks(range(len(count)), word)"
   ]
  },
  {
   "cell_type": "code",
   "execution_count": 10,
   "metadata": {
    "collapsed": true
   },
   "outputs": [],
   "source": [
    "words = words.map(lambda x:(x[1], x[0]))"
   ]
  },
  {
   "cell_type": "code",
   "execution_count": 11,
   "metadata": {
    "collapsed": false
   },
   "outputs": [
    {
     "data": {
      "text/plain": [
       "[(u'apache', 79),\n",
       " (u'copyright', 66),\n",
       " (u'software', 60),\n",
       " (u'this', 54),\n",
       " (u'license', 44),\n",
       " (u'product', 38),\n",
       " (u'foundation', 35),\n",
       " (u'under', 28),\n",
       " (u'developed', 19),\n",
       " (u'includes', 18),\n",
       " (u'from', 17),\n",
       " (u'version', 16),\n",
       " (u'commons', 15),\n",
       " (u'distributed', 15),\n",
       " (u'project', 14)]"
      ]
     },
     "execution_count": 11,
     "metadata": {},
     "output_type": "execute_result"
    }
   ],
   "source": [
    "words.take(15)"
   ]
  },
  {
   "cell_type": "code",
   "execution_count": 12,
   "metadata": {
    "collapsed": false
   },
   "outputs": [
    {
     "data": {
      "image/png": "[encoded data removed]",
      "text/plain": [
       "<matplotlib.figure.Figure at 0x7f67d4df5710>"
      ]
     },
     "metadata": {},
     "output_type": "display_data"
    }
   ],
   "source": [
    "histogram(words.take(15))"
   ]
  }
 ],
 "metadata": {
  "kernelspec": {
   "display_name": "Python [Root]",
   "language": "python",
   "name": "Python [Root]"
  },
  "language_info": {
   "codemirror_mode": {
    "name": "ipython",
    "version": 2
   },
   "file_extension": ".py",
   "mimetype": "text/x-python",
   "name": "python",
   "nbconvert_exporter": "python",
   "pygments_lexer": "ipython2",
   "version": "2.7.12"
  }
 },
 "nbformat": 4,
 "nbformat_minor": 0
}
