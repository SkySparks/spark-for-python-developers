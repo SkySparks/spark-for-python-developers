{
 "cells": [
  {
   "cell_type": "code",
   "execution_count": null,
   "metadata": {
    "collapsed": true
   },
   "outputs": [],
   "source": [
    "import os\n",
    "import io\n",
    "import json\n",
    "\n",
    "class IO_json(object):\n",
    "\n",
    "    def __init__(self, filepath, filename, filesuffix='json'):\n",
    "        self.filepath = filepath\n",
    "        self.filename = filename\n",
    "        self.filesuffix = filesuffix\n",
    "\n",
    "    def save(self, data):\n",
    "        file = '{0}/{1}.{2}'.format(self.filepath, self.filename, self.filesuffix)\n",
    "        if os.path.isfile(file):\n",
    "            with io.open(file, 'a', encoding='utf-8') as f:\n",
    "                f.write(unicode(json.dumps(data, ensure_ascii=False)))\n",
    "        else:\n",
    "            with io.open(file, 'w', encoding='utf-8') as f:\n",
    "                f.write(unicode(json.dumps(data, ensure_ascii=False)))\n",
    "\n",
    "    def load(self):\n",
    "        file = '{0}/{1}.{2}'.format(self.filepath, self.filename, self.filesuffix)\n",
    "        with io.open(file, encoding='utf-8') as f:\n",
    "            return f.read()"
   ]
  }
 ],
 "metadata": {
  "kernelspec": {
   "display_name": "Python [Root]",
   "language": "python",
   "name": "Python [Root]"
  },
  "language_info": {
   "codemirror_mode": {
    "name": "ipython",
    "version": 2
   },
   "file_extension": ".py",
   "mimetype": "text/x-python",
   "name": "python",
   "nbconvert_exporter": "python",
   "pygments_lexer": "ipython2",
   "version": "2.7.12"
  }
 },
 "nbformat": 4,
 "nbformat_minor": 0
}
