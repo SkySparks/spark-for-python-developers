{
 "cells": [
  {
   "cell_type": "code",
   "execution_count": 25,
   "metadata": {
    "collapsed": false
   },
   "outputs": [],
   "source": [
    "import numpy as np\n",
    "import scipy.sparse as sps\n",
    "from pyspark.mllib.linalg import Vectors\n",
    "\n",
    "# Numpy array for dense vector.\n",
    "dvect1 = np.array([5.0, 0.0, 1.0, 7.0])\n",
    "\n",
    "# Python list for dense vector.\n",
    "dvect2 = [5.0, 0.0, 1.0, 7.0]\n",
    "\n",
    "# SparseVector creation\n",
    "svect1 = Vectors.sparse(4, [0, 2, 3], [5.0, 1.0, 7.0])\n",
    "\n",
    "# Sparse vector using a single-column SciPy csc_matrix\n",
    "svect2 = sps.csc_matrix((np.array([5.0, 1.0, 7.0]), np.array([0, 2, 3]), np.array([0, 1, 2])), shape=(4, 2))"
   ]
  },
  {
   "cell_type": "code",
   "execution_count": 22,
   "metadata": {
    "collapsed": false
   },
   "outputs": [
    {
     "name": "stdout",
     "output_type": "stream",
     "text": [
      "  (0, 0)\t5.0\n",
      "  (2, 1)\t1.0\n"
     ]
    }
   ],
   "source": [
    "print(svect2)"
   ]
  },
  {
   "cell_type": "code",
   "execution_count": null,
   "metadata": {
    "collapsed": true
   },
   "outputs": [],
   "source": [
    "p"
   ]
  }
 ],
 "metadata": {
  "kernelspec": {
   "display_name": "Python [Root]",
   "language": "python",
   "name": "Python [Root]"
  },
  "language_info": {
   "codemirror_mode": {
    "name": "ipython",
    "version": 2
   },
   "file_extension": ".py",
   "mimetype": "text/x-python",
   "name": "python",
   "nbconvert_exporter": "python",
   "pygments_lexer": "ipython2",
   "version": "2.7.12"
  }
 },
 "nbformat": 4,
 "nbformat_minor": 0
}
