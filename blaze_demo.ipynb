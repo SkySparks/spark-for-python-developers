{
 "cells": [
  {
   "cell_type": "code",
   "execution_count": 2,
   "metadata": {
    "collapsed": false
   },
   "outputs": [
    {
     "name": "stderr",
     "output_type": "stream",
     "text": [
      "/home/carl/anaconda2/lib/python2.7/site-packages/flask/exthook.py:71: ExtDeprecationWarning: Importing flask.ext.cors is deprecated, use flask_cors instead.\n",
      "  .format(x=modname), ExtDeprecationWarning\n"
     ]
    }
   ],
   "source": [
    "import numpy as np\n",
    "import pandas as pd\n",
    "from blaze import Data, by, join, merge\n",
    "from odo import odo "
   ]
  },
  {
   "cell_type": "code",
   "execution_count": 13,
   "metadata": {
    "collapsed": false
   },
   "outputs": [],
   "source": [
    "from IO_csv import IO_csv\n",
    "csvFpath = '/home/carl/spark/examples/carl_Spark/data'\n",
    "csvFname = 'twtr15053001' # twtr15053001.csv\n",
    "c = IO_csv(csvFpath, csvFname)"
   ]
  },
  {
   "cell_type": "code",
   "execution_count": 14,
   "metadata": {
    "collapsed": false
   },
   "outputs": [],
   "source": [
    "fields01 = ['id', 'created_at', 'user_id', 'user_name', 'tweet_text', 'url']\n",
    "data = c.load('Tweet01', fields01)\n",
    "twts_pd_df = pd.DataFrame(data, columns=fields01)"
   ]
  },
  {
   "cell_type": "code",
   "execution_count": 15,
   "metadata": {
    "collapsed": false
   },
   "outputs": [
    {
     "data": {
      "text/html": [
       "<div>\n",
       "<table border=\"1\" class=\"dataframe\">\n",
       "  <thead>\n",
       "    <tr style=\"text-align: right;\">\n",
       "      <th></th>\n",
       "      <th>id</th>\n",
       "      <th>created_at</th>\n",
       "      <th>user_id</th>\n",
       "      <th>user_name</th>\n",
       "      <th>tweet_text</th>\n",
       "      <th>url</th>\n",
       "    </tr>\n",
       "  </thead>\n",
       "  <tbody>\n",
       "    <tr>\n",
       "      <th>0</th>\n",
       "      <td>id</td>\n",
       "      <td>created_at</td>\n",
       "      <td>user_id</td>\n",
       "      <td>user_name</td>\n",
       "      <td>tweet_text</td>\n",
       "      <td>url</td>\n",
       "    </tr>\n",
       "    <tr>\n",
       "      <th>1</th>\n",
       "      <td>774933593206427649</td>\n",
       "      <td>Sun Sep 11 11:32:20 +0000 2016</td>\n",
       "      <td>2690281202</td>\n",
       "      <td>Info 24 US</td>\n",
       "      <td>RT @TheTruth24US: Clinton remarks on \"half\" of...</td>\n",
       "      <td>http://goo.gl/4MoqDR</td>\n",
       "    </tr>\n",
       "    <tr>\n",
       "      <th>2</th>\n",
       "      <td>774933591830790145</td>\n",
       "      <td>Sun Sep 11 11:32:20 +0000 2016</td>\n",
       "      <td>2941365709</td>\n",
       "      <td>The Truth 24 US</td>\n",
       "      <td>Clinton remarks on \"half\" of Trump backers spa...</td>\n",
       "      <td>http://goo.gl/4MoqDR</td>\n",
       "    </tr>\n",
       "  </tbody>\n",
       "</table>\n",
       "</div>"
      ],
      "text/plain": [
       "                   id                      created_at     user_id  \\\n",
       "0                  id                      created_at     user_id   \n",
       "1  774933593206427649  Sun Sep 11 11:32:20 +0000 2016  2690281202   \n",
       "2  774933591830790145  Sun Sep 11 11:32:20 +0000 2016  2941365709   \n",
       "\n",
       "         user_name                                         tweet_text  \\\n",
       "0        user_name                                         tweet_text   \n",
       "1       Info 24 US  RT @TheTruth24US: Clinton remarks on \"half\" of...   \n",
       "2  The Truth 24 US  Clinton remarks on \"half\" of Trump backers spa...   \n",
       "\n",
       "                    url  \n",
       "0                   url  \n",
       "1  http://goo.gl/4MoqDR  \n",
       "2  http://goo.gl/4MoqDR  "
      ]
     },
     "execution_count": 15,
     "metadata": {},
     "output_type": "execute_result"
    }
   ],
   "source": [
    "twts_pd_df.head()"
   ]
  },
  {
   "cell_type": "code",
   "execution_count": null,
   "metadata": {
    "collapsed": true
   },
   "outputs": [],
   "source": []
  }
 ],
 "metadata": {
  "kernelspec": {
   "display_name": "Python [Root]",
   "language": "python",
   "name": "Python [Root]"
  },
  "language_info": {
   "codemirror_mode": {
    "name": "ipython",
    "version": 2
   },
   "file_extension": ".py",
   "mimetype": "text/x-python",
   "name": "python",
   "nbconvert_exporter": "python",
   "pygments_lexer": "ipython2",
   "version": "2.7.12"
  }
 },
 "nbformat": 4,
 "nbformat_minor": 0
}
