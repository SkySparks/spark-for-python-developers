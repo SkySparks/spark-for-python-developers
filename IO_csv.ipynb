{
 "cells": [
  {
   "cell_type": "code",
   "execution_count": 1,
   "metadata": {
    "collapsed": true
   },
   "outputs": [],
   "source": [
    "from collections import namedtuple\n",
    "import os\n",
    "import csv\n",
    "from IPython.core.debugger import Tracer\n",
    "\n",
    "class IO_csv(object):\n",
    "\n",
    "    def __init__(self, filepath, filename, filesuffix='csv'):\n",
    "        self.filepath = filepath\n",
    "        self.filename = filename\n",
    "        self.filesuffix = filesuffix\n",
    "        \n",
    "    def parse_tweet(self, data):\n",
    "        fields01= ['id', 'created_at', 'user_id', 'user_name', 'tweet_text', 'url']\n",
    "        Tweet01 = namedtuple('Tweet01', fields01)\n",
    "    \n",
    "        return Tweet01(\n",
    "            id = data.get('id', None),\n",
    "            created_at = data.get('created_at', None),\n",
    "            user_id = data.get('user_id', None),\n",
    "            user_name = data.get('user_name', None),\n",
    "            tweet_text = data.get('tweet_text', None),\n",
    "            url = data.get('url')\n",
    "        ) \n",
    "\n",
    "    def save(self, data, NTname, fields):\n",
    "        # NTname = Name of the NameTuple\n",
    "        # fields = header of CSV - list of the fields name\n",
    "        NTuple = namedtuple(NTname, fields)\n",
    "        file = '{0}/{1}.{2}'.format(self.filepath, self.filename, self.filesuffix)\n",
    "        # Tracer()()\n",
    "        if os.path.isfile(file):\n",
    "            # Append existing file\n",
    "            with open(file, 'ab') as f:\n",
    "                writer = csv.writer(f)\n",
    "                # writer.writerow(fileds)\n",
    "                writer.writerows([row for row in map(NTuple._make, data)])\n",
    "                #list comprehension using map on the NamedTuple._make() iterable and the data file to be saved\n",
    "        else:\n",
    "            # Create new file\n",
    "            with open(file, 'wb') as f:\n",
    "                writer = csv.writer(f) \n",
    "                writer.writerow(fields) # fields = header of CSV\n",
    "                writer.writerows([row for row in map(NTuple._make, data)])\n",
    "\n",
    "    def load(self, NTname, fields):\n",
    "        NTuple = namedtuple(NTname, fields)\n",
    "        with open('{0}/{1}.{2}'.format(self.filepath, self.filename, self.filesuffix), 'rU') as f:\n",
    "            reader = csv.reader(f)\n",
    "            for row in map(NTuple._make, reader):\n",
    "                yield row"
   ]
  }
 ],
 "metadata": {
  "kernelspec": {
   "display_name": "Python [Root]",
   "language": "python",
   "name": "Python [Root]"
  },
  "language_info": {
   "codemirror_mode": {
    "name": "ipython",
    "version": 2
   },
   "file_extension": ".py",
   "mimetype": "text/x-python",
   "name": "python",
   "nbconvert_exporter": "python",
   "pygments_lexer": "ipython2",
   "version": "2.7.12"
  }
 },
 "nbformat": 4,
 "nbformat_minor": 0
}
